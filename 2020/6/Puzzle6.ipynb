{
 "cells": [
  {
   "cell_type": "code",
   "execution_count": 1,
   "metadata": {},
   "outputs": [],
   "source": [
    "import numpy as np\n",
    "import pandas as pd"
   ]
  },
  {
   "cell_type": "code",
   "execution_count": 18,
   "metadata": {},
   "outputs": [
    {
     "data": {
      "text/html": [
       "<div>\n",
       "<style scoped>\n",
       "    .dataframe tbody tr th:only-of-type {\n",
       "        vertical-align: middle;\n",
       "    }\n",
       "\n",
       "    .dataframe tbody tr th {\n",
       "        vertical-align: top;\n",
       "    }\n",
       "\n",
       "    .dataframe thead th {\n",
       "        text-align: right;\n",
       "    }\n",
       "</style>\n",
       "<table border=\"1\" class=\"dataframe\">\n",
       "  <thead>\n",
       "    <tr style=\"text-align: right;\">\n",
       "      <th></th>\n",
       "      <th>raw</th>\n",
       "      <th>answers</th>\n",
       "    </tr>\n",
       "  </thead>\n",
       "  <tbody>\n",
       "    <tr>\n",
       "      <td>1</td>\n",
       "      <td>fbqjswm\\nqmbjwfs\\nfmsbjwq\\nsmjbqwf\\nhwsqmbfj\\n\\n</td>\n",
       "      <td>fbhswqjm</td>\n",
       "    </tr>\n",
       "    <tr>\n",
       "      <td>2</td>\n",
       "      <td>sxpoqbueg\\nfbhxqzjrtdkgwaepos\\nqbepgsxo\\npbxvo...</td>\n",
       "      <td>bvzswcipeoalhtxfkduqjgr</td>\n",
       "    </tr>\n",
       "    <tr>\n",
       "      <td>3</td>\n",
       "      <td>gd\\npfdy\\n\\n</td>\n",
       "      <td>pfdgy</td>\n",
       "    </tr>\n",
       "    <tr>\n",
       "      <td>4</td>\n",
       "      <td>yijwkdzvoub\\ncifujkyvbwz\\n\\n</td>\n",
       "      <td>fbvkdzowucjiy</td>\n",
       "    </tr>\n",
       "    <tr>\n",
       "      <td>5</td>\n",
       "      <td>htumjfskxapveoblncy\\ntkvfxpejomnbhcuslya\\nxukp...</td>\n",
       "      <td>bvscypeoalhtxfkujnm</td>\n",
       "    </tr>\n",
       "    <tr>\n",
       "      <td>...</td>\n",
       "      <td>...</td>\n",
       "      <td>...</td>\n",
       "    </tr>\n",
       "    <tr>\n",
       "      <td>493</td>\n",
       "      <td>ndtoxjfsp\\ntvjdeoxlp\\nphxasrotjdn\\n\\n</td>\n",
       "      <td>fpvhedoastnxjrl</td>\n",
       "    </tr>\n",
       "    <tr>\n",
       "      <td>494</td>\n",
       "      <td>vcpzksneyxfo\\nuevyhslzcpxgt\\n\\n</td>\n",
       "      <td>pfvhkezosuctnxgly</td>\n",
       "    </tr>\n",
       "    <tr>\n",
       "      <td>495</td>\n",
       "      <td>wpxvmnghz\\nvmxphwz\\nhvwxzkmp\\n\\n</td>\n",
       "      <td>phvkzwxngm</td>\n",
       "    </tr>\n",
       "    <tr>\n",
       "      <td>496</td>\n",
       "      <td>usvdwyomecfip\\nsuweomifpvcdy\\ncsiuwmvdpfeyo\\nm...</td>\n",
       "      <td>fpvedosuwcmiy</td>\n",
       "    </tr>\n",
       "    <tr>\n",
       "      <td>497</td>\n",
       "      <td>hlqbanmtjy\\ntdrvxcajgnfpoke\\njtiunkpsroa\\n\\n</td>\n",
       "      <td>bvsciypeoalhtxfkduqjnrgm</td>\n",
       "    </tr>\n",
       "  </tbody>\n",
       "</table>\n",
       "<p>497 rows × 2 columns</p>\n",
       "</div>"
      ],
      "text/plain": [
       "                                                   raw  \\\n",
       "1     fbqjswm\\nqmbjwfs\\nfmsbjwq\\nsmjbqwf\\nhwsqmbfj\\n\\n   \n",
       "2    sxpoqbueg\\nfbhxqzjrtdkgwaepos\\nqbepgsxo\\npbxvo...   \n",
       "3                                         gd\\npfdy\\n\\n   \n",
       "4                         yijwkdzvoub\\ncifujkyvbwz\\n\\n   \n",
       "5    htumjfskxapveoblncy\\ntkvfxpejomnbhcuslya\\nxukp...   \n",
       "..                                                 ...   \n",
       "493              ndtoxjfsp\\ntvjdeoxlp\\nphxasrotjdn\\n\\n   \n",
       "494                    vcpzksneyxfo\\nuevyhslzcpxgt\\n\\n   \n",
       "495                   wpxvmnghz\\nvmxphwz\\nhvwxzkmp\\n\\n   \n",
       "496  usvdwyomecfip\\nsuweomifpvcdy\\ncsiuwmvdpfeyo\\nm...   \n",
       "497       hlqbanmtjy\\ntdrvxcajgnfpoke\\njtiunkpsroa\\n\\n   \n",
       "\n",
       "                      answers  \n",
       "1                    fbhswqjm  \n",
       "2     bvzswcipeoalhtxfkduqjgr  \n",
       "3                       pfdgy  \n",
       "4               fbvkdzowucjiy  \n",
       "5         bvscypeoalhtxfkujnm  \n",
       "..                        ...  \n",
       "493           fpvhedoastnxjrl  \n",
       "494         pfvhkezosuctnxgly  \n",
       "495                phvkzwxngm  \n",
       "496             fpvedosuwcmiy  \n",
       "497  bvsciypeoalhtxfkduqjnrgm  \n",
       "\n",
       "[497 rows x 2 columns]"
      ]
     },
     "execution_count": 18,
     "metadata": {},
     "output_type": "execute_result"
    }
   ],
   "source": [
    "data = pd.DataFrame(columns=['raw', 'answers'])\n",
    "\n",
    "answers = ''\n",
    "group_id = 1\n",
    "\n",
    "with open('P6.csv') as f:\n",
    "    lines=f.readlines()\n",
    "    for i, line in enumerate(lines):\n",
    "        \n",
    "        answers = answers + line\n",
    "        \n",
    "        if line == '\\n':\n",
    "            \n",
    "            data.loc[group_id, 'raw'] = answers\n",
    "            data.loc[group_id, 'answers'] = \"\".join(set(answers.replace('\\n', '')))\n",
    "            answers = ''\n",
    "            group_id += 1\n",
    "            \n",
    "data"
   ]
  },
  {
   "cell_type": "code",
   "execution_count": 22,
   "metadata": {},
   "outputs": [
    {
     "data": {
      "text/plain": [
       "7120"
      ]
     },
     "execution_count": 22,
     "metadata": {},
     "output_type": "execute_result"
    }
   ],
   "source": [
    "data['yes_answers'] = data['answers'].map(lambda x: len(x))\n",
    "data['yes_answers'].sum()"
   ]
  },
  {
   "cell_type": "markdown",
   "metadata": {},
   "source": [
    "#### part2"
   ]
  },
  {
   "cell_type": "code",
   "execution_count": 40,
   "metadata": {},
   "outputs": [
    {
     "data": {
      "text/html": [
       "<div>\n",
       "<style scoped>\n",
       "    .dataframe tbody tr th:only-of-type {\n",
       "        vertical-align: middle;\n",
       "    }\n",
       "\n",
       "    .dataframe tbody tr th {\n",
       "        vertical-align: top;\n",
       "    }\n",
       "\n",
       "    .dataframe thead th {\n",
       "        text-align: right;\n",
       "    }\n",
       "</style>\n",
       "<table border=\"1\" class=\"dataframe\">\n",
       "  <thead>\n",
       "    <tr style=\"text-align: right;\">\n",
       "      <th></th>\n",
       "      <th>answers</th>\n",
       "    </tr>\n",
       "  </thead>\n",
       "  <tbody>\n",
       "    <tr>\n",
       "      <td>1</td>\n",
       "      <td>[fbqjswm, qmbjwfs, fmsbjwq, smjbqwf, hwsqmbfj]</td>\n",
       "    </tr>\n",
       "    <tr>\n",
       "      <td>2</td>\n",
       "      <td>[sxpoqbueg, fbhxqzjrtdkgwaepos, qbepgsxo, pbxv...</td>\n",
       "    </tr>\n",
       "    <tr>\n",
       "      <td>3</td>\n",
       "      <td>[gd, pfdy]</td>\n",
       "    </tr>\n",
       "    <tr>\n",
       "      <td>4</td>\n",
       "      <td>[yijwkdzvoub, cifujkyvbwz]</td>\n",
       "    </tr>\n",
       "    <tr>\n",
       "      <td>5</td>\n",
       "      <td>[htumjfskxapveoblncy, tkvfxpejomnbhcuslya, xuk...</td>\n",
       "    </tr>\n",
       "    <tr>\n",
       "      <td>...</td>\n",
       "      <td>...</td>\n",
       "    </tr>\n",
       "    <tr>\n",
       "      <td>493</td>\n",
       "      <td>[ndtoxjfsp, tvjdeoxlp, phxasrotjdn]</td>\n",
       "    </tr>\n",
       "    <tr>\n",
       "      <td>494</td>\n",
       "      <td>[vcpzksneyxfo, uevyhslzcpxgt]</td>\n",
       "    </tr>\n",
       "    <tr>\n",
       "      <td>495</td>\n",
       "      <td>[wpxvmnghz, vmxphwz, hvwxzkmp]</td>\n",
       "    </tr>\n",
       "    <tr>\n",
       "      <td>496</td>\n",
       "      <td>[usvdwyomecfip, suweomifpvcdy, csiuwmvdpfeyo, ...</td>\n",
       "    </tr>\n",
       "    <tr>\n",
       "      <td>497</td>\n",
       "      <td>[hlqbanmtjy, tdrvxcajgnfpoke, jtiunkpsroa]</td>\n",
       "    </tr>\n",
       "  </tbody>\n",
       "</table>\n",
       "<p>497 rows × 1 columns</p>\n",
       "</div>"
      ],
      "text/plain": [
       "                                               answers\n",
       "1       [fbqjswm, qmbjwfs, fmsbjwq, smjbqwf, hwsqmbfj]\n",
       "2    [sxpoqbueg, fbhxqzjrtdkgwaepos, qbepgsxo, pbxv...\n",
       "3                                           [gd, pfdy]\n",
       "4                           [yijwkdzvoub, cifujkyvbwz]\n",
       "5    [htumjfskxapveoblncy, tkvfxpejomnbhcuslya, xuk...\n",
       "..                                                 ...\n",
       "493                [ndtoxjfsp, tvjdeoxlp, phxasrotjdn]\n",
       "494                      [vcpzksneyxfo, uevyhslzcpxgt]\n",
       "495                     [wpxvmnghz, vmxphwz, hvwxzkmp]\n",
       "496  [usvdwyomecfip, suweomifpvcdy, csiuwmvdpfeyo, ...\n",
       "497         [hlqbanmtjy, tdrvxcajgnfpoke, jtiunkpsroa]\n",
       "\n",
       "[497 rows x 1 columns]"
      ]
     },
     "execution_count": 40,
     "metadata": {},
     "output_type": "execute_result"
    }
   ],
   "source": [
    "data = pd.DataFrame(columns=['answers'])\n",
    "\n",
    "answers = []\n",
    "group_id = 1\n",
    "\n",
    "with open('P6.csv') as f:\n",
    "    lines=f.readlines()\n",
    "    for i, line in enumerate(lines):\n",
    "        \n",
    "        answers.append(line.replace('\\n', ''))\n",
    "        \n",
    "        if line == '\\n':\n",
    "            \n",
    "            data.loc[group_id, 'answers'] = answers[:-1]\n",
    "            answers = []\n",
    "            group_id += 1\n",
    "            \n",
    "data"
   ]
  },
  {
   "cell_type": "code",
   "execution_count": 42,
   "metadata": {},
   "outputs": [],
   "source": [
    "data['same_answers'] = data['answers'].map(lambda x: list(set.intersection(*[set(ex) for ex in x])))"
   ]
  },
  {
   "cell_type": "code",
   "execution_count": 43,
   "metadata": {},
   "outputs": [
    {
     "data": {
      "text/plain": [
       "3570"
      ]
     },
     "execution_count": 43,
     "metadata": {},
     "output_type": "execute_result"
    }
   ],
   "source": [
    "data['same_answers'].map(lambda x: len(x)).sum()"
   ]
  },
  {
   "cell_type": "code",
   "execution_count": null,
   "metadata": {},
   "outputs": [],
   "source": []
  }
 ],
 "metadata": {
  "kernelspec": {
   "display_name": "Python 3",
   "language": "python",
   "name": "python3"
  },
  "language_info": {
   "codemirror_mode": {
    "name": "ipython",
    "version": 3
   },
   "file_extension": ".py",
   "mimetype": "text/x-python",
   "name": "python",
   "nbconvert_exporter": "python",
   "pygments_lexer": "ipython3",
   "version": "3.7.4"
  }
 },
 "nbformat": 4,
 "nbformat_minor": 2
}
