{
 "cells": [
  {
   "cell_type": "code",
   "execution_count": 189,
   "metadata": {},
   "outputs": [],
   "source": [
    "import pandas as pd\n",
    "import numpy as np"
   ]
  },
  {
   "cell_type": "code",
   "execution_count": 292,
   "metadata": {
    "scrolled": false
   },
   "outputs": [
    {
     "name": "stderr",
     "output_type": "stream",
     "text": [
      "C:\\Users\\Lenovo\\Anaconda3\\lib\\site-packages\\ipykernel_launcher.py:1: ParserWarning: Falling back to the 'python' engine because the 'c' engine does not support regex separators (separators > 1 char and different from '\\s+' are interpreted as regex); you can avoid this warning by specifying engine='python'.\n",
      "  \"\"\"Entry point for launching an IPython kernel.\n"
     ]
    },
    {
     "data": {
      "text/html": [
       "<div>\n",
       "<style scoped>\n",
       "    .dataframe tbody tr th:only-of-type {\n",
       "        vertical-align: middle;\n",
       "    }\n",
       "\n",
       "    .dataframe tbody tr th {\n",
       "        vertical-align: top;\n",
       "    }\n",
       "\n",
       "    .dataframe thead th {\n",
       "        text-align: right;\n",
       "    }\n",
       "</style>\n",
       "<table border=\"1\" class=\"dataframe\">\n",
       "  <thead>\n",
       "    <tr style=\"text-align: right;\">\n",
       "      <th></th>\n",
       "      <th>bag</th>\n",
       "      <th>contain</th>\n",
       "    </tr>\n",
       "  </thead>\n",
       "  <tbody>\n",
       "    <tr>\n",
       "      <td>0</td>\n",
       "      <td>light salmon bags</td>\n",
       "      <td>5 dotted olive bags, 4 wavy lavender bags.</td>\n",
       "    </tr>\n",
       "    <tr>\n",
       "      <td>1</td>\n",
       "      <td>dark purple bags</td>\n",
       "      <td>5 striped maroon bags, 1 wavy maroon bag.</td>\n",
       "    </tr>\n",
       "    <tr>\n",
       "      <td>2</td>\n",
       "      <td>muted lime bags</td>\n",
       "      <td>4 drab lavender bags, 1 clear orange bag, 2 s...</td>\n",
       "    </tr>\n",
       "    <tr>\n",
       "      <td>3</td>\n",
       "      <td>light green bags</td>\n",
       "      <td>5 dull gray bags, 3 dark crimson bags.</td>\n",
       "    </tr>\n",
       "    <tr>\n",
       "      <td>4</td>\n",
       "      <td>bright violet bags</td>\n",
       "      <td>1 bright purple bag.</td>\n",
       "    </tr>\n",
       "    <tr>\n",
       "      <td>...</td>\n",
       "      <td>...</td>\n",
       "      <td>...</td>\n",
       "    </tr>\n",
       "    <tr>\n",
       "      <td>589</td>\n",
       "      <td>dull white bags</td>\n",
       "      <td>no other bags.</td>\n",
       "    </tr>\n",
       "    <tr>\n",
       "      <td>590</td>\n",
       "      <td>pale green bags</td>\n",
       "      <td>4 bright green bags, 2 dull lime bags, 1 stri...</td>\n",
       "    </tr>\n",
       "    <tr>\n",
       "      <td>591</td>\n",
       "      <td>muted bronze bags</td>\n",
       "      <td>5 bright tomato bags, 5 light red bags, 2 shi...</td>\n",
       "    </tr>\n",
       "    <tr>\n",
       "      <td>592</td>\n",
       "      <td>mirrored aqua bags</td>\n",
       "      <td>3 dim tomato bags, 1 mirrored crimson bag, 1 ...</td>\n",
       "    </tr>\n",
       "    <tr>\n",
       "      <td>593</td>\n",
       "      <td>vibrant magenta bags</td>\n",
       "      <td>2 dark lime bags.</td>\n",
       "    </tr>\n",
       "  </tbody>\n",
       "</table>\n",
       "<p>594 rows × 2 columns</p>\n",
       "</div>"
      ],
      "text/plain": [
       "                       bag                                            contain\n",
       "0       light salmon bags          5 dotted olive bags, 4 wavy lavender bags.\n",
       "1        dark purple bags           5 striped maroon bags, 1 wavy maroon bag.\n",
       "2         muted lime bags    4 drab lavender bags, 1 clear orange bag, 2 s...\n",
       "3        light green bags              5 dull gray bags, 3 dark crimson bags.\n",
       "4      bright violet bags                                1 bright purple bag.\n",
       "..                     ...                                                ...\n",
       "589       dull white bags                                      no other bags.\n",
       "590       pale green bags    4 bright green bags, 2 dull lime bags, 1 stri...\n",
       "591     muted bronze bags    5 bright tomato bags, 5 light red bags, 2 shi...\n",
       "592    mirrored aqua bags    3 dim tomato bags, 1 mirrored crimson bag, 1 ...\n",
       "593  vibrant magenta bags                                   2 dark lime bags.\n",
       "\n",
       "[594 rows x 2 columns]"
      ]
     },
     "execution_count": 292,
     "metadata": {},
     "output_type": "execute_result"
    }
   ],
   "source": [
    "data = pd.read_csv('P7.csv', sep='contain',header=None, names=['bag', 'contain'])\n",
    "data"
   ]
  },
  {
   "cell_type": "code",
   "execution_count": 293,
   "metadata": {},
   "outputs": [],
   "source": [
    "def clean_string(string):\n",
    "    string = string.replace('.', '')\n",
    "    \n",
    "    if string[-3:] == 'bag':\n",
    "        string = string.replace('bag', 'bags')\n",
    "    \n",
    "    if string[:3] == ' no':\n",
    "        string = string[1:]\n",
    "    else:\n",
    "        string = string[3:]\n",
    "\n",
    "    return string"
   ]
  },
  {
   "cell_type": "code",
   "execution_count": 285,
   "metadata": {
    "scrolled": true
   },
   "outputs": [
    {
     "data": {
      "text/plain": [
       "{'light red bags': ['bright white bags', 'muted yellow bags'],\n",
       " 'dark orange bags': ['bright white bags', 'muted yellow bags'],\n",
       " 'bright white bags': ['shiny gold bags'],\n",
       " 'muted yellow bags': ['shiny gold bags', 'faded blue bags'],\n",
       " 'shiny gold bags': ['dark olive bags', 'vibrant plum bags'],\n",
       " 'dark olive bags': ['faded blue bags', 'dotted black bags'],\n",
       " 'vibrant plum bags': ['faded blue bags', 'dotted black bags'],\n",
       " 'faded blue bags': ['no other bags'],\n",
       " 'dotted black bags': ['no other bags'],\n",
       " 'no other bags': []}"
      ]
     },
     "execution_count": 285,
     "metadata": {},
     "output_type": "execute_result"
    }
   ],
   "source": [
    "bags = {}\n",
    "\n",
    "for i in range(data.shape[0]):\n",
    "    \n",
    "    bags[data.iloc[i, 0][:-1]] = [clean_string(string) for string in data.iloc[i, 1].split(',')]\n",
    "    \n",
    "bags['no other bags'] = []\n",
    "\n",
    "bags"
   ]
  },
  {
   "cell_type": "code",
   "execution_count": 87,
   "metadata": {},
   "outputs": [
    {
     "data": {
      "text/plain": [
       "261"
      ]
     },
     "execution_count": 87,
     "metadata": {},
     "output_type": "execute_result"
    }
   ],
   "source": [
    "# Set to keep track of visited nodes.\n",
    "bags_containg_shiny = []\n",
    "\n",
    "def dfs(visited, graph, node):\n",
    "    if node not in visited:\n",
    "        visited.add(node)\n",
    "        for neighbour in graph[node]:\n",
    "            \n",
    "            if neighbour == 'shiny gold bags':\n",
    "                bags_containg_shiny.append(bag)\n",
    "                break\n",
    "                \n",
    "            else:\n",
    "                dfs(visited, graph, neighbour)\n",
    "\n",
    "# Driver Code\n",
    "\n",
    "for bag_idx in range(data.shape[0]):\n",
    "    bag = data.iloc[bag_idx, 0][:-1]\n",
    "    visited = set()\n",
    "    dfs(visited, bags, bag)\n",
    "    \n",
    "len(list(set(bags_containg_shiny)))"
   ]
  },
  {
   "cell_type": "markdown",
   "metadata": {},
   "source": [
    "### part 2"
   ]
  },
  {
   "cell_type": "code",
   "execution_count": 197,
   "metadata": {},
   "outputs": [],
   "source": [
    "bag = 'shiny gold bags'"
   ]
  },
  {
   "cell_type": "code",
   "execution_count": 304,
   "metadata": {},
   "outputs": [],
   "source": [
    "def clean_string(string):\n",
    "    string = string.replace('.', '')\n",
    "    \n",
    "    if string[-3:] == 'bag':\n",
    "        string = string.replace('bag', 'bags')\n",
    "    \n",
    "    string = string[1:]\n",
    "\n",
    "    return string\n",
    "\n",
    "bags_original = {}\n",
    "\n",
    "for i in range(data.shape[0]):\n",
    "    \n",
    "    bags_original[data.iloc[i, 0][:-1]] = [clean_string(string) for string in data.iloc[i, 1].split(',')]"
   ]
  },
  {
   "cell_type": "code",
   "execution_count": 300,
   "metadata": {},
   "outputs": [],
   "source": [
    "bags_count = []\n",
    "bags_cnt = 0\n",
    "\n",
    "def dfs(visited, graph, node, count):\n",
    "    bags_cnt = 0\n",
    "    \n",
    "    for neighbour in graph[node]:\n",
    "        if neighbour != 'no other bags':\n",
    "            \n",
    "            bag_list.append([node, count, neighbour])\n",
    "            bags_cnt += count * int(neighbour[0])\n",
    "            dfs(visited, graph, neighbour[2:], count=count * int(neighbour[0]))\n",
    "            \n",
    "        if neighbour == 'no other bags':\n",
    "            count = 1\n",
    "            bags_cnt = 0\n",
    "            \n",
    "    bags_count.append(bags_cnt)"
   ]
  },
  {
   "cell_type": "code",
   "execution_count": 301,
   "metadata": {},
   "outputs": [],
   "source": [
    "dfs(visited, bags_original, bag, 1)"
   ]
  },
  {
   "cell_type": "code",
   "execution_count": 303,
   "metadata": {},
   "outputs": [
    {
     "name": "stdout",
     "output_type": "stream",
     "text": [
      "3765\n"
     ]
    }
   ],
   "source": [
    "print(np.array(bags_count).sum())"
   ]
  }
 ],
 "metadata": {
  "kernelspec": {
   "display_name": "Python 3",
   "language": "python",
   "name": "python3"
  },
  "language_info": {
   "codemirror_mode": {
    "name": "ipython",
    "version": 3
   },
   "file_extension": ".py",
   "mimetype": "text/x-python",
   "name": "python",
   "nbconvert_exporter": "python",
   "pygments_lexer": "ipython3",
   "version": "3.7.4"
  }
 },
 "nbformat": 4,
 "nbformat_minor": 2
}
