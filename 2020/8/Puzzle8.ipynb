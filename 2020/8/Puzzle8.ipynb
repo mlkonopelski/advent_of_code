{
 "cells": [
  {
   "cell_type": "code",
   "execution_count": 1,
   "metadata": {},
   "outputs": [],
   "source": [
    "import pandas as pd"
   ]
  },
  {
   "cell_type": "code",
   "execution_count": 59,
   "metadata": {},
   "outputs": [
    {
     "data": {
      "text/html": [
       "<div>\n",
       "<style scoped>\n",
       "    .dataframe tbody tr th:only-of-type {\n",
       "        vertical-align: middle;\n",
       "    }\n",
       "\n",
       "    .dataframe tbody tr th {\n",
       "        vertical-align: top;\n",
       "    }\n",
       "\n",
       "    .dataframe thead th {\n",
       "        text-align: right;\n",
       "    }\n",
       "</style>\n",
       "<table border=\"1\" class=\"dataframe\">\n",
       "  <thead>\n",
       "    <tr style=\"text-align: right;\">\n",
       "      <th></th>\n",
       "      <th>cmd</th>\n",
       "      <th>value</th>\n",
       "      <th>key</th>\n",
       "    </tr>\n",
       "  </thead>\n",
       "  <tbody>\n",
       "    <tr>\n",
       "      <td>0</td>\n",
       "      <td>acc</td>\n",
       "      <td>0</td>\n",
       "      <td>0_ acc 0</td>\n",
       "    </tr>\n",
       "    <tr>\n",
       "      <td>1</td>\n",
       "      <td>jmp</td>\n",
       "      <td>516</td>\n",
       "      <td>1_ jmp 516</td>\n",
       "    </tr>\n",
       "    <tr>\n",
       "      <td>2</td>\n",
       "      <td>acc</td>\n",
       "      <td>-16</td>\n",
       "      <td>2_ acc -16</td>\n",
       "    </tr>\n",
       "    <tr>\n",
       "      <td>3</td>\n",
       "      <td>nop</td>\n",
       "      <td>326</td>\n",
       "      <td>3_ nop 326</td>\n",
       "    </tr>\n",
       "    <tr>\n",
       "      <td>4</td>\n",
       "      <td>jmp</td>\n",
       "      <td>366</td>\n",
       "      <td>4_ jmp 366</td>\n",
       "    </tr>\n",
       "    <tr>\n",
       "      <td>...</td>\n",
       "      <td>...</td>\n",
       "      <td>...</td>\n",
       "      <td>...</td>\n",
       "    </tr>\n",
       "    <tr>\n",
       "      <td>605</td>\n",
       "      <td>acc</td>\n",
       "      <td>-2</td>\n",
       "      <td>605_ acc -2</td>\n",
       "    </tr>\n",
       "    <tr>\n",
       "      <td>606</td>\n",
       "      <td>acc</td>\n",
       "      <td>25</td>\n",
       "      <td>606_ acc 25</td>\n",
       "    </tr>\n",
       "    <tr>\n",
       "      <td>607</td>\n",
       "      <td>nop</td>\n",
       "      <td>-68</td>\n",
       "      <td>607_ nop -68</td>\n",
       "    </tr>\n",
       "    <tr>\n",
       "      <td>608</td>\n",
       "      <td>acc</td>\n",
       "      <td>14</td>\n",
       "      <td>608_ acc 14</td>\n",
       "    </tr>\n",
       "    <tr>\n",
       "      <td>609</td>\n",
       "      <td>jmp</td>\n",
       "      <td>1</td>\n",
       "      <td>609_ jmp 1</td>\n",
       "    </tr>\n",
       "  </tbody>\n",
       "</table>\n",
       "<p>610 rows × 3 columns</p>\n",
       "</div>"
      ],
      "text/plain": [
       "     cmd  value           key\n",
       "0    acc      0      0_ acc 0\n",
       "1    jmp    516    1_ jmp 516\n",
       "2    acc    -16    2_ acc -16\n",
       "3    nop    326    3_ nop 326\n",
       "4    jmp    366    4_ jmp 366\n",
       "..   ...    ...           ...\n",
       "605  acc     -2   605_ acc -2\n",
       "606  acc     25   606_ acc 25\n",
       "607  nop    -68  607_ nop -68\n",
       "608  acc     14   608_ acc 14\n",
       "609  jmp      1    609_ jmp 1\n",
       "\n",
       "[610 rows x 3 columns]"
      ]
     },
     "execution_count": 59,
     "metadata": {},
     "output_type": "execute_result"
    }
   ],
   "source": [
    "data = pd.read_csv('P8.csv', header=None, sep=' ', names=['cmd', 'value'])\n",
    "data['key'] = data.index.astype('str') + '_ ' + data['cmd'] + ' ' + data['value'].astype(str)\n",
    "data"
   ]
  },
  {
   "cell_type": "markdown",
   "metadata": {},
   "source": [
    "### part1"
   ]
  },
  {
   "cell_type": "code",
   "execution_count": 61,
   "metadata": {
    "scrolled": true
   },
   "outputs": [
    {
     "data": {
      "text/plain": [
       "1217"
      ]
     },
     "execution_count": 61,
     "metadata": {},
     "output_type": "execute_result"
    }
   ],
   "source": [
    "lista = []\n",
    "accumulator = 0\n",
    "pos = 0\n",
    "\n",
    "while True:\n",
    "    \n",
    "    key = data['key'][pos]\n",
    "    lista.append(key)\n",
    "    \n",
    "    cmd = data['cmd'][pos]\n",
    "    value = data['value'][pos]\n",
    "        \n",
    "    if cmd == 'acc':\n",
    "        \n",
    "        accumulator += value\n",
    "        pos += 1\n",
    "    \n",
    "    if cmd == 'nop':\n",
    "        pos += 1\n",
    "        \n",
    "    if cmd == 'jmp':\n",
    "        pos += value\n",
    "        \n",
    "    key = data['key'][pos]\n",
    "    \n",
    "    if key in lista:\n",
    "        break\n",
    "        \n",
    "accumulator"
   ]
  },
  {
   "cell_type": "markdown",
   "metadata": {},
   "source": [
    "### part2"
   ]
  },
  {
   "cell_type": "code",
   "execution_count": 62,
   "metadata": {
    "scrolled": false
   },
   "outputs": [
    {
     "data": {
      "text/html": [
       "<div>\n",
       "<style scoped>\n",
       "    .dataframe tbody tr th:only-of-type {\n",
       "        vertical-align: middle;\n",
       "    }\n",
       "\n",
       "    .dataframe tbody tr th {\n",
       "        vertical-align: top;\n",
       "    }\n",
       "\n",
       "    .dataframe thead th {\n",
       "        text-align: right;\n",
       "    }\n",
       "</style>\n",
       "<table border=\"1\" class=\"dataframe\">\n",
       "  <thead>\n",
       "    <tr style=\"text-align: right;\">\n",
       "      <th></th>\n",
       "      <th>cmd</th>\n",
       "      <th>value</th>\n",
       "      <th>key</th>\n",
       "    </tr>\n",
       "  </thead>\n",
       "  <tbody>\n",
       "    <tr>\n",
       "      <td>0</td>\n",
       "      <td>acc</td>\n",
       "      <td>0</td>\n",
       "      <td>0_ acc 0</td>\n",
       "    </tr>\n",
       "    <tr>\n",
       "      <td>1</td>\n",
       "      <td>jmp</td>\n",
       "      <td>516</td>\n",
       "      <td>1_ jmp 516</td>\n",
       "    </tr>\n",
       "    <tr>\n",
       "      <td>2</td>\n",
       "      <td>acc</td>\n",
       "      <td>-16</td>\n",
       "      <td>2_ acc -16</td>\n",
       "    </tr>\n",
       "    <tr>\n",
       "      <td>3</td>\n",
       "      <td>nop</td>\n",
       "      <td>326</td>\n",
       "      <td>3_ nop 326</td>\n",
       "    </tr>\n",
       "    <tr>\n",
       "      <td>4</td>\n",
       "      <td>jmp</td>\n",
       "      <td>366</td>\n",
       "      <td>4_ jmp 366</td>\n",
       "    </tr>\n",
       "    <tr>\n",
       "      <td>...</td>\n",
       "      <td>...</td>\n",
       "      <td>...</td>\n",
       "      <td>...</td>\n",
       "    </tr>\n",
       "    <tr>\n",
       "      <td>605</td>\n",
       "      <td>acc</td>\n",
       "      <td>-2</td>\n",
       "      <td>605_ acc -2</td>\n",
       "    </tr>\n",
       "    <tr>\n",
       "      <td>606</td>\n",
       "      <td>acc</td>\n",
       "      <td>25</td>\n",
       "      <td>606_ acc 25</td>\n",
       "    </tr>\n",
       "    <tr>\n",
       "      <td>607</td>\n",
       "      <td>nop</td>\n",
       "      <td>-68</td>\n",
       "      <td>607_ nop -68</td>\n",
       "    </tr>\n",
       "    <tr>\n",
       "      <td>608</td>\n",
       "      <td>acc</td>\n",
       "      <td>14</td>\n",
       "      <td>608_ acc 14</td>\n",
       "    </tr>\n",
       "    <tr>\n",
       "      <td>609</td>\n",
       "      <td>jmp</td>\n",
       "      <td>1</td>\n",
       "      <td>609_ jmp 1</td>\n",
       "    </tr>\n",
       "  </tbody>\n",
       "</table>\n",
       "<p>610 rows × 3 columns</p>\n",
       "</div>"
      ],
      "text/plain": [
       "     cmd  value           key\n",
       "0    acc      0      0_ acc 0\n",
       "1    jmp    516    1_ jmp 516\n",
       "2    acc    -16    2_ acc -16\n",
       "3    nop    326    3_ nop 326\n",
       "4    jmp    366    4_ jmp 366\n",
       "..   ...    ...           ...\n",
       "605  acc     -2   605_ acc -2\n",
       "606  acc     25   606_ acc 25\n",
       "607  nop    -68  607_ nop -68\n",
       "608  acc     14   608_ acc 14\n",
       "609  jmp      1    609_ jmp 1\n",
       "\n",
       "[610 rows x 3 columns]"
      ]
     },
     "execution_count": 62,
     "metadata": {},
     "output_type": "execute_result"
    }
   ],
   "source": [
    "data"
   ]
  },
  {
   "cell_type": "code",
   "execution_count": 68,
   "metadata": {},
   "outputs": [
    {
     "data": {
      "text/plain": [
       "Int64Index([  3,  10,  16,  48,  56,  59,  64,  66,  83, 110, 117, 132, 135,\n",
       "            143, 144, 187, 197, 215, 220, 246, 250, 253, 257, 290, 295, 300,\n",
       "            311, 318, 321, 331, 344, 348, 352, 354, 364, 368, 375, 377, 383,\n",
       "            389, 395, 411, 424, 441, 471, 489, 504, 509, 526, 544, 550, 554,\n",
       "            577, 582, 589, 590, 607],\n",
       "           dtype='int64')"
      ]
     },
     "execution_count": 68,
     "metadata": {},
     "output_type": "execute_result"
    }
   ],
   "source": [
    "data[data['cmd'] == 'nop'].index"
   ]
  },
  {
   "cell_type": "code",
   "execution_count": 63,
   "metadata": {},
   "outputs": [],
   "source": [
    "data.to_csv('P8__.csv')"
   ]
  },
  {
   "cell_type": "code",
   "execution_count": 64,
   "metadata": {},
   "outputs": [
    {
     "name": "stdout",
     "output_type": "stream",
     "text": [
      "hard_break\n"
     ]
    },
    {
     "data": {
      "text/plain": [
       "6597"
      ]
     },
     "execution_count": 64,
     "metadata": {},
     "output_type": "execute_result"
    }
   ],
   "source": [
    "lista = []\n",
    "accumulator = 0\n",
    "pos = 0\n",
    "i = 0\n",
    "\n",
    "while True:\n",
    "    \n",
    "    cmd = data['cmd'][pos]\n",
    "    value = data['value'][pos]\n",
    "    \n",
    "\n",
    "        \n",
    "        \n",
    "accumulator"
   ]
  },
  {
   "cell_type": "code",
   "execution_count": 114,
   "metadata": {},
   "outputs": [],
   "source": [
    "def run_loop(data):\n",
    "    \n",
    "    pos = 0\n",
    "    accumulator = 0\n",
    "    \n",
    "    for i in range(10001):\n",
    "        \n",
    "        if pos >= data.shape[0]:\n",
    "            print('Accu: ', accumulator)\n",
    "            break\n",
    "\n",
    "        cmd = data['cmd'][pos]\n",
    "        value = data['value'][pos]\n",
    "\n",
    "        if cmd == 'acc':\n",
    "\n",
    "            accumulator += value\n",
    "            pos += 1\n",
    "\n",
    "        if cmd == 'nop':\n",
    "            pos += 1\n",
    "\n",
    "        if cmd == 'jmp':\n",
    "            pos += value\n",
    "\n",
    "    return False, accumulator"
   ]
  },
  {
   "cell_type": "code",
   "execution_count": 115,
   "metadata": {},
   "outputs": [
    {
     "name": "stdout",
     "output_type": "stream",
     "text": [
      "Accu:  501\n"
     ]
    }
   ],
   "source": [
    "for combination in [('jmp', 'nop'), ('nop', 'jmp')]:\n",
    "    idxes = list(data[data['cmd'] == combination[0]].index)\n",
    "    idxes.reverse()\n",
    "    for idx in idxes:\n",
    "        data_ = data.copy()\n",
    "        data_.iloc[idx, 0] = combination[1]\n",
    "        try:\n",
    "            run_loop(data_)\n",
    "        except:\n",
    "            break"
   ]
  },
  {
   "cell_type": "code",
   "execution_count": null,
   "metadata": {},
   "outputs": [],
   "source": []
  }
 ],
 "metadata": {
  "kernelspec": {
   "display_name": "Python 3",
   "language": "python",
   "name": "python3"
  },
  "language_info": {
   "codemirror_mode": {
    "name": "ipython",
    "version": 3
   },
   "file_extension": ".py",
   "mimetype": "text/x-python",
   "name": "python",
   "nbconvert_exporter": "python",
   "pygments_lexer": "ipython3",
   "version": "3.7.4"
  }
 },
 "nbformat": 4,
 "nbformat_minor": 2
}
