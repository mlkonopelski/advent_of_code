{
 "cells": [
  {
   "cell_type": "code",
   "execution_count": 1,
   "metadata": {},
   "outputs": [],
   "source": [
    "import pandas as pd\n",
    "import numpy as np"
   ]
  },
  {
   "cell_type": "code",
   "execution_count": 40,
   "metadata": {},
   "outputs": [],
   "source": [
    "data1 = pd.read_csv('P1.csv', header=None, names=['input1']).to_numpy().reshape((-1, ))\n",
    "data2 = pd.read_csv('P1.csv', header=None, names=['input2']).to_numpy().reshape((-1, ))\n",
    "data3 = pd.read_csv('P1.csv', header=None, names=['input3']).to_numpy().reshape((-1, ))"
   ]
  },
  {
   "cell_type": "code",
   "execution_count": 37,
   "metadata": {},
   "outputs": [],
   "source": [
    "combinations = np.array(np.meshgrid(data1, data2)).T.reshape(-1,2)\n",
    "idx = np.where(combinations.sum(axis=1) == 2020)[0][0]\n",
    "combinations[idx][0] * combinations[idx][1]"
   ]
  },
  {
   "cell_type": "code",
   "execution_count": 42,
   "metadata": {},
   "outputs": [
    {
     "data": {
      "text/plain": [
       "272611658"
      ]
     },
     "execution_count": 42,
     "metadata": {},
     "output_type": "execute_result"
    }
   ],
   "source": [
    "combinations = np.array(np.meshgrid(data1, data2, data3)).T.reshape(-1,3)\n",
    "idx = np.where(combinations.sum(axis=1) == 2020)[0][0]\n",
    "combinations[idx][0] * combinations[idx][1] * combinations[idx][2]"
   ]
  }
 ],
 "metadata": {
  "kernelspec": {
   "display_name": "Python 3",
   "language": "python",
   "name": "python3"
  },
  "language_info": {
   "codemirror_mode": {
    "name": "ipython",
    "version": 3
   },
   "file_extension": ".py",
   "mimetype": "text/x-python",
   "name": "python",
   "nbconvert_exporter": "python",
   "pygments_lexer": "ipython3",
   "version": "3.7.4"
  }
 },
 "nbformat": 4,
 "nbformat_minor": 2
}
