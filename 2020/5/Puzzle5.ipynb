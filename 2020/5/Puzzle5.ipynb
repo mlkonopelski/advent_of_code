{
 "cells": [
  {
   "cell_type": "code",
   "execution_count": 118,
   "metadata": {},
   "outputs": [],
   "source": [
    "import pandas as pd"
   ]
  },
  {
   "cell_type": "code",
   "execution_count": 123,
   "metadata": {},
   "outputs": [
    {
     "data": {
      "text/html": [
       "<div>\n",
       "<style scoped>\n",
       "    .dataframe tbody tr th:only-of-type {\n",
       "        vertical-align: middle;\n",
       "    }\n",
       "\n",
       "    .dataframe tbody tr th {\n",
       "        vertical-align: top;\n",
       "    }\n",
       "\n",
       "    .dataframe thead th {\n",
       "        text-align: right;\n",
       "    }\n",
       "</style>\n",
       "<table border=\"1\" class=\"dataframe\">\n",
       "  <thead>\n",
       "    <tr style=\"text-align: right;\">\n",
       "      <th></th>\n",
       "      <th>input</th>\n",
       "    </tr>\n",
       "  </thead>\n",
       "  <tbody>\n",
       "    <tr>\n",
       "      <td>0</td>\n",
       "      <td>BBFFBFBRLL</td>\n",
       "    </tr>\n",
       "    <tr>\n",
       "      <td>1</td>\n",
       "      <td>FFFFBFBRLR</td>\n",
       "    </tr>\n",
       "    <tr>\n",
       "      <td>2</td>\n",
       "      <td>BFFBBFBRLR</td>\n",
       "    </tr>\n",
       "    <tr>\n",
       "      <td>3</td>\n",
       "      <td>BFBBBFBLLL</td>\n",
       "    </tr>\n",
       "    <tr>\n",
       "      <td>4</td>\n",
       "      <td>FFBBFBBLRR</td>\n",
       "    </tr>\n",
       "    <tr>\n",
       "      <td>...</td>\n",
       "      <td>...</td>\n",
       "    </tr>\n",
       "    <tr>\n",
       "      <td>970</td>\n",
       "      <td>FFBFFBFLRL</td>\n",
       "    </tr>\n",
       "    <tr>\n",
       "      <td>971</td>\n",
       "      <td>FBBBBBBRLL</td>\n",
       "    </tr>\n",
       "    <tr>\n",
       "      <td>972</td>\n",
       "      <td>BBFBFBBLLL</td>\n",
       "    </tr>\n",
       "    <tr>\n",
       "      <td>973</td>\n",
       "      <td>FBBFFBBRRL</td>\n",
       "    </tr>\n",
       "    <tr>\n",
       "      <td>974</td>\n",
       "      <td>FBBBBBBRRL</td>\n",
       "    </tr>\n",
       "  </tbody>\n",
       "</table>\n",
       "<p>975 rows × 1 columns</p>\n",
       "</div>"
      ],
      "text/plain": [
       "          input\n",
       "0    BBFFBFBRLL\n",
       "1    FFFFBFBRLR\n",
       "2    BFFBBFBRLR\n",
       "3    BFBBBFBLLL\n",
       "4    FFBBFBBLRR\n",
       "..          ...\n",
       "970  FFBFFBFLRL\n",
       "971  FBBBBBBRLL\n",
       "972  BBFBFBBLLL\n",
       "973  FBBFFBBRRL\n",
       "974  FBBBBBBRRL\n",
       "\n",
       "[975 rows x 1 columns]"
      ]
     },
     "execution_count": 123,
     "metadata": {},
     "output_type": "execute_result"
    }
   ],
   "source": [
    "data = pd.read_csv('P5.csv', header=None, names=['input'])\n",
    "data"
   ]
  },
  {
   "cell_type": "code",
   "execution_count": 95,
   "metadata": {},
   "outputs": [],
   "source": [
    "def chunkIt(seq):\n",
    "    avg = len(seq) / 2.0\n",
    "    out = []\n",
    "    last = 0.0\n",
    "\n",
    "    while last < len(seq):\n",
    "        out.append(seq[int(last):int(last + avg)])\n",
    "        last += avg\n",
    "\n",
    "    return out"
   ]
  },
  {
   "cell_type": "markdown",
   "metadata": {},
   "source": [
    "#### part3"
   ]
  },
  {
   "cell_type": "code",
   "execution_count": 141,
   "metadata": {},
   "outputs": [],
   "source": [
    "def find_row(string):\n",
    "\n",
    "    chunks = range(0, 128)\n",
    "\n",
    "    for i in range(6):\n",
    "\n",
    "        l = string[i]\n",
    "        chunks = chunkIt(chunks)\n",
    "\n",
    "        if l == 'F':\n",
    "            chunks = chunks[0]\n",
    "        if l =='B':\n",
    "            chunks = chunks[1]\n",
    "\n",
    "    if string[6] == 'F':\n",
    "        row = chunks[0]\n",
    "    else:\n",
    "        row = chunks[1]\n",
    "\n",
    "    return row"
   ]
  },
  {
   "cell_type": "code",
   "execution_count": 115,
   "metadata": {},
   "outputs": [],
   "source": [
    "def find_column(string):\n",
    "\n",
    "    chunks = range(0, 8)\n",
    "\n",
    "    for i in range(3, 1, -1):\n",
    "\n",
    "        l = string[-i]\n",
    "        chunks = chunkIt(chunks)\n",
    "        \n",
    "        if l == 'L':\n",
    "            chunks = chunks[0]\n",
    "        if l =='R':\n",
    "            chunks = chunks[1]\n",
    "\n",
    "    if string[9] == 'L':\n",
    "        column = chunks[0]\n",
    "    else:\n",
    "        column = chunks[1]\n",
    "\n",
    "    return column"
   ]
  },
  {
   "cell_type": "code",
   "execution_count": 140,
   "metadata": {},
   "outputs": [],
   "source": [
    "def calculate_id(string):\n",
    "    return find_row(string) * 8 + find_column(string)"
   ]
  },
  {
   "cell_type": "code",
   "execution_count": 145,
   "metadata": {},
   "outputs": [
    {
     "data": {
      "text/plain": [
       "996"
      ]
     },
     "execution_count": 145,
     "metadata": {},
     "output_type": "execute_result"
    }
   ],
   "source": [
    "id_list = data['input'].map(lambda x: calculate_id(x))\n",
    "id_list.max()"
   ]
  },
  {
   "cell_type": "markdown",
   "metadata": {},
   "source": [
    "#### part2"
   ]
  },
  {
   "cell_type": "code",
   "execution_count": 150,
   "metadata": {},
   "outputs": [],
   "source": [
    "id_list = id_list.sort_values().reset_index(drop=True)"
   ]
  },
  {
   "cell_type": "code",
   "execution_count": 158,
   "metadata": {},
   "outputs": [
    {
     "data": {
      "text/plain": [
       "{671}"
      ]
     },
     "execution_count": 158,
     "metadata": {},
     "output_type": "execute_result"
    }
   ],
   "source": [
    "set(list(range(21, 997))).difference(id_list.tolist())"
   ]
  }
 ],
 "metadata": {
  "kernelspec": {
   "display_name": "Python 3",
   "language": "python",
   "name": "python3"
  },
  "language_info": {
   "codemirror_mode": {
    "name": "ipython",
    "version": 3
   },
   "file_extension": ".py",
   "mimetype": "text/x-python",
   "name": "python",
   "nbconvert_exporter": "python",
   "pygments_lexer": "ipython3",
   "version": "3.7.4"
  }
 },
 "nbformat": 4,
 "nbformat_minor": 2
}
