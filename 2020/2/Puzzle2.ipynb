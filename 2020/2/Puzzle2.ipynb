{
 "cells": [
  {
   "cell_type": "code",
   "execution_count": 22,
   "metadata": {},
   "outputs": [],
   "source": [
    "import pandas as pd\n",
    "import numpy as np\n",
    "import re"
   ]
  },
  {
   "cell_type": "code",
   "execution_count": 12,
   "metadata": {},
   "outputs": [],
   "source": [
    "data = pd.read_csv('P2.csv', header=None, names=['condition', 'input'], sep=':')"
   ]
  },
  {
   "cell_type": "code",
   "execution_count": 33,
   "metadata": {},
   "outputs": [],
   "source": [
    "conditions = pd.DataFrame(data['condition'].map(lambda x: x.replace(' ', '-').split('-')).to_list(), \n",
    "                          columns=['min', 'max', 'letter'])\n",
    "\n",
    "data = pd.concat([data, conditions], axis=1).drop(columns=['condition'])\n",
    "\n",
    "data['min'] = data['min'].astype('int')\n",
    "data['max'] = data['max'].astype('int')"
   ]
  },
  {
   "cell_type": "markdown",
   "metadata": {},
   "source": [
    "#### Part1"
   ]
  },
  {
   "cell_type": "code",
   "execution_count": 51,
   "metadata": {},
   "outputs": [],
   "source": [
    "def between_func(value, min, max):\n",
    "    if value >= min and value <= max:\n",
    "        return 1\n",
    "    else:\n",
    "        return 0"
   ]
  },
  {
   "cell_type": "code",
   "execution_count": 58,
   "metadata": {},
   "outputs": [
    {
     "data": {
      "text/plain": [
       "418"
      ]
     },
     "execution_count": 58,
     "metadata": {},
     "output_type": "execute_result"
    }
   ],
   "source": [
    "data.apply(lambda row: between_func(row['input'].count(row['letter']), row['min'], row['max']), axis=1).sum()"
   ]
  },
  {
   "cell_type": "markdown",
   "metadata": {},
   "source": [
    "#### Part2"
   ]
  },
  {
   "cell_type": "code",
   "execution_count": 95,
   "metadata": {},
   "outputs": [],
   "source": [
    "def check_string(string, min, max, letter):\n",
    "    string = string.strip()\n",
    "    return (string[min-1] == letter or string[max-1] == letter) and not (string[min-1] == letter and string[max-1] == letter)"
   ]
  },
  {
   "cell_type": "code",
   "execution_count": 96,
   "metadata": {},
   "outputs": [
    {
     "data": {
      "text/plain": [
       "616"
      ]
     },
     "execution_count": 96,
     "metadata": {},
     "output_type": "execute_result"
    }
   ],
   "source": [
    "data.apply(lambda row: check_string(row['input'], row['min'], row['max'], row['letter']), axis=1).sum()"
   ]
  },
  {
   "cell_type": "code",
   "execution_count": 93,
   "metadata": {},
   "outputs": [
    {
     "data": {
      "text/html": [
       "<div>\n",
       "<style scoped>\n",
       "    .dataframe tbody tr th:only-of-type {\n",
       "        vertical-align: middle;\n",
       "    }\n",
       "\n",
       "    .dataframe tbody tr th {\n",
       "        vertical-align: top;\n",
       "    }\n",
       "\n",
       "    .dataframe thead th {\n",
       "        text-align: right;\n",
       "    }\n",
       "</style>\n",
       "<table border=\"1\" class=\"dataframe\">\n",
       "  <thead>\n",
       "    <tr style=\"text-align: right;\">\n",
       "      <th></th>\n",
       "      <th>input</th>\n",
       "      <th>min</th>\n",
       "      <th>max</th>\n",
       "      <th>letter</th>\n",
       "      <th>check_string</th>\n",
       "      <th>check_string2</th>\n",
       "      <th>check_string3</th>\n",
       "    </tr>\n",
       "  </thead>\n",
       "  <tbody>\n",
       "    <tr>\n",
       "      <td>0</td>\n",
       "      <td>jjjqzmgbjwpj</td>\n",
       "      <td>1</td>\n",
       "      <td>4</td>\n",
       "      <td>j</td>\n",
       "      <td>True</td>\n",
       "      <td>j</td>\n",
       "      <td>j</td>\n",
       "    </tr>\n",
       "    <tr>\n",
       "      <td>1</td>\n",
       "      <td>sckwwf</td>\n",
       "      <td>2</td>\n",
       "      <td>4</td>\n",
       "      <td>w</td>\n",
       "      <td>False</td>\n",
       "      <td>k</td>\n",
       "      <td>s</td>\n",
       "    </tr>\n",
       "    <tr>\n",
       "      <td>2</td>\n",
       "      <td>bcbbbbbbbbbbhbb</td>\n",
       "      <td>1</td>\n",
       "      <td>13</td>\n",
       "      <td>b</td>\n",
       "      <td>True</td>\n",
       "      <td>b</td>\n",
       "      <td>b</td>\n",
       "    </tr>\n",
       "    <tr>\n",
       "      <td>3</td>\n",
       "      <td>xjxxxxxxxxzxxx</td>\n",
       "      <td>10</td>\n",
       "      <td>11</td>\n",
       "      <td>x</td>\n",
       "      <td>True</td>\n",
       "      <td>x</td>\n",
       "      <td>x</td>\n",
       "    </tr>\n",
       "    <tr>\n",
       "      <td>4</td>\n",
       "      <td>dddddddddddddd</td>\n",
       "      <td>13</td>\n",
       "      <td>14</td>\n",
       "      <td>d</td>\n",
       "      <td>True</td>\n",
       "      <td>d</td>\n",
       "      <td>d</td>\n",
       "    </tr>\n",
       "    <tr>\n",
       "      <td>...</td>\n",
       "      <td>...</td>\n",
       "      <td>...</td>\n",
       "      <td>...</td>\n",
       "      <td>...</td>\n",
       "      <td>...</td>\n",
       "      <td>...</td>\n",
       "      <td>...</td>\n",
       "    </tr>\n",
       "    <tr>\n",
       "      <td>995</td>\n",
       "      <td>hfffbkffnfffflffffff</td>\n",
       "      <td>12</td>\n",
       "      <td>13</td>\n",
       "      <td>f</td>\n",
       "      <td>True</td>\n",
       "      <td>f</td>\n",
       "      <td>h</td>\n",
       "    </tr>\n",
       "    <tr>\n",
       "      <td>996</td>\n",
       "      <td>jjljjjjjjdjfjhq</td>\n",
       "      <td>1</td>\n",
       "      <td>6</td>\n",
       "      <td>j</td>\n",
       "      <td>True</td>\n",
       "      <td>j</td>\n",
       "      <td>j</td>\n",
       "    </tr>\n",
       "    <tr>\n",
       "      <td>997</td>\n",
       "      <td>llllllllllll</td>\n",
       "      <td>11</td>\n",
       "      <td>12</td>\n",
       "      <td>l</td>\n",
       "      <td>True</td>\n",
       "      <td>l</td>\n",
       "      <td>l</td>\n",
       "    </tr>\n",
       "    <tr>\n",
       "      <td>998</td>\n",
       "      <td>hwqhspckdppznzwnmxhh</td>\n",
       "      <td>19</td>\n",
       "      <td>20</td>\n",
       "      <td>h</td>\n",
       "      <td>True</td>\n",
       "      <td>h</td>\n",
       "      <td>h</td>\n",
       "    </tr>\n",
       "    <tr>\n",
       "      <td>999</td>\n",
       "      <td>pkccwcgjpcxn</td>\n",
       "      <td>8</td>\n",
       "      <td>9</td>\n",
       "      <td>m</td>\n",
       "      <td>False</td>\n",
       "      <td>j</td>\n",
       "      <td>p</td>\n",
       "    </tr>\n",
       "  </tbody>\n",
       "</table>\n",
       "<p>1000 rows × 7 columns</p>\n",
       "</div>"
      ],
      "text/plain": [
       "                     input  min  max letter  check_string check_string2  \\\n",
       "0             jjjqzmgbjwpj    1    4      j          True             j   \n",
       "1                   sckwwf    2    4      w         False             k   \n",
       "2          bcbbbbbbbbbbhbb    1   13      b          True             b   \n",
       "3           xjxxxxxxxxzxxx   10   11      x          True             x   \n",
       "4           dddddddddddddd   13   14      d          True             d   \n",
       "..                     ...  ...  ...    ...           ...           ...   \n",
       "995   hfffbkffnfffflffffff   12   13      f          True             f   \n",
       "996        jjljjjjjjdjfjhq    1    6      j          True             j   \n",
       "997           llllllllllll   11   12      l          True             l   \n",
       "998   hwqhspckdppznzwnmxhh   19   20      h          True             h   \n",
       "999           pkccwcgjpcxn    8    9      m         False             j   \n",
       "\n",
       "    check_string3  \n",
       "0               j  \n",
       "1               s  \n",
       "2               b  \n",
       "3               x  \n",
       "4               d  \n",
       "..            ...  \n",
       "995             h  \n",
       "996             j  \n",
       "997             l  \n",
       "998             h  \n",
       "999             p  \n",
       "\n",
       "[1000 rows x 7 columns]"
      ]
     },
     "execution_count": 93,
     "metadata": {},
     "output_type": "execute_result"
    }
   ],
   "source": [
    "data"
   ]
  },
  {
   "cell_type": "code",
   "execution_count": null,
   "metadata": {},
   "outputs": [],
   "source": []
  }
 ],
 "metadata": {
  "kernelspec": {
   "display_name": "Python 3",
   "language": "python",
   "name": "python3"
  },
  "language_info": {
   "codemirror_mode": {
    "name": "ipython",
    "version": 3
   },
   "file_extension": ".py",
   "mimetype": "text/x-python",
   "name": "python",
   "nbconvert_exporter": "python",
   "pygments_lexer": "ipython3",
   "version": "3.7.4"
  }
 },
 "nbformat": 4,
 "nbformat_minor": 2
}
